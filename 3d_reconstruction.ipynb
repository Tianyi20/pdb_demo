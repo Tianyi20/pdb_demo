{
 "cells": [
  {
   "cell_type": "code",
   "execution_count": 1,
   "metadata": {},
   "outputs": [
    {
     "name": "stdout",
     "output_type": "stream",
     "text": [
      "Jupyter environment detected. Enabling Open3D WebVisualizer.\n",
      "[Open3D INFO] WebRTC GUI backend enabled.\n",
      "[Open3D INFO] WebRTCWindowSystem: HTTP handshake server disabled.\n"
     ]
    }
   ],
   "source": [
    "import open3d as o3d\n",
    "import numpy as np\n",
    "import torch\n",
    "\n",
    "def visualize_point_cloud(data):\n",
    "    \"\"\"\n",
    "    Visualizes a point cloud using Open3D. Supports N*3 and N*6 point clouds,\n",
    "    and accepts both NumPy arrays and PyTorch tensors.\n",
    "\n",
    "    :param data: A NumPy array or PyTorch tensor of shape (N, 3) or (N, 6).\n",
    "                 For (N, 3), it represents the (x, y, z) coordinates of the points.\n",
    "                 For (N, 6), it represents the (x, y, z, r, g, b) coordinates and colors of the points.\n",
    "    \"\"\"\n",
    "    if isinstance(data, torch.Tensor):\n",
    "        data = data.cpu().numpy()\n",
    "\n",
    "    if data.shape[1] not in [3, 6]:\n",
    "        raise ValueError(\"The input data must have shape (N, 3) or (N, 6).\")\n",
    "\n",
    "    point_cloud = o3d.geometry.PointCloud()\n",
    "    point_cloud.points = o3d.utility.Vector3dVector(data[:, :3])\n",
    "\n",
    "    if data.shape[1] == 6:\n",
    "        point_cloud.colors = o3d.utility.Vector3dVector(data[:, 3:])\n",
    "    \n",
    "    coordinate_frame = o3d.geometry.TriangleMesh.create_coordinate_frame(size=0.1, origin=[0, 0, 0])\n",
    "    origin_marker = o3d.geometry.TriangleMesh.create_sphere(radius=0.02)\n",
    "    origin_marker.paint_uniform_color([1, 0, 0])  # Red color for clear visibility\n",
    "    origin_marker.translate([0, 0, 0])  # It is already at (0,0,0), this line is optional\n",
    "    o3d.visualization.draw_geometries([point_cloud, coordinate_frame, origin_marker])"
   ]
  },
  {
   "cell_type": "code",
   "execution_count": 2,
   "metadata": {},
   "outputs": [],
   "source": [
    "import open3d as o3d\n",
    "def read_pcs_from_ply(path):\n",
    "    pcd = o3d.io.read_point_cloud(path)\n",
    "    return np.array(pcd.points), np.array(pcd.colors)"
   ]
  },
  {
   "cell_type": "code",
   "execution_count": 3,
   "metadata": {},
   "outputs": [
    {
     "name": "stdout",
     "output_type": "stream",
     "text": [
      "[[-5.5432403e-01 -2.0770936e+00  3.5411119e-04]\n",
      " [-5.4505324e-01 -2.0769169e+00  4.9513578e-04]\n",
      " [-5.3583294e-01 -2.0769172e+00  4.9495697e-04]\n",
      " ...\n",
      " [ 2.4733700e-02 -1.4842072e+00  1.0856376e+00]\n",
      " [ 3.5682250e-02 -1.4858286e+00  1.0850313e+00]\n",
      " [ 4.4689715e-02 -1.4885249e+00  1.0845079e+00]]\n",
      "(11184, 3)\n"
     ]
    }
   ],
   "source": [
    "path = \"tabletop_objects.pcd\"\n",
    "\n",
    "points,colors = read_pcs_from_ply(path)\n",
    "print(points)\n",
    "print(points.shape)\n"
   ]
  },
  {
   "cell_type": "code",
   "execution_count": 4,
   "metadata": {},
   "outputs": [],
   "source": [
    "#visualize_point_cloud(points)"
   ]
  },
  {
   "cell_type": "code",
   "execution_count": 16,
   "metadata": {},
   "outputs": [
    {
     "name": "stdout",
     "output_type": "stream",
     "text": [
      "3\n",
      "[0.  0.5 1. ]\n",
      "[0. 1.]\n",
      "[[0.  0.5 1. ]\n",
      " [0.  0.5 1. ]]\n",
      "[[0. 0. 0.]\n",
      " [1. 1. 1.]]\n"
     ]
    }
   ],
   "source": [
    "nx, ny = (3, 2)\n",
    "print(nx)\n",
    "x = np.linspace(0, 1, nx)\n",
    "print(x)\n",
    "y = np.linspace(0, 1, ny)\n",
    "print(y)\n",
    "\n",
    "xv, yv = np.meshgrid(x, y)\n",
    "print(xv)\n",
    "print(yv)\n",
    "\n"
   ]
  },
  {
   "cell_type": "code",
   "execution_count": 10,
   "metadata": {},
   "outputs": [
    {
     "name": "stdout",
     "output_type": "stream",
     "text": [
      "grid_x [[-1.3329346  -1.31025473 -1.28757486 ...  0.86701297  0.88969284\n",
      "   0.91237271]\n",
      " [-1.3329346  -1.31025473 -1.28757486 ...  0.86701297  0.88969284\n",
      "   0.91237271]\n",
      " [-1.3329346  -1.31025473 -1.28757486 ...  0.86701297  0.88969284\n",
      "   0.91237271]\n",
      " ...\n",
      " [-1.3329346  -1.31025473 -1.28757486 ...  0.86701297  0.88969284\n",
      "   0.91237271]\n",
      " [-1.3329346  -1.31025473 -1.28757486 ...  0.86701297  0.88969284\n",
      "   0.91237271]\n",
      " [-1.3329346  -1.31025473 -1.28757486 ...  0.86701297  0.88969284\n",
      "   0.91237271]]\n",
      "grid_x (100, 100)\n",
      "grid_z [[1.0891948 1.0891948 1.0891948 ... 1.0891948 1.0891948 1.0891948]\n",
      " [1.0891948 1.0891948 1.0891948 ... 1.0891948 1.0891948 1.0891948]\n",
      " [1.0891948 1.0891948 1.0891948 ... 1.0891948 1.0891948 1.0891948]\n",
      " ...\n",
      " [1.0891948 1.0891948 1.0891948 ... 1.0891948 1.0891948 1.0891948]\n",
      " [1.0891948 1.0891948 1.0891948 ... 1.0891948 1.0891948 1.0891948]\n",
      " [1.0891948 1.0891948 1.0891948 ... 1.0891948 1.0891948 1.0891948]]\n",
      "grid_z (100, 100)\n"
     ]
    }
   ],
   "source": [
    "import open3d as o3d\n",
    "import numpy as np\n",
    "import torch\n",
    "\n",
    "def fill_objects(points, grid_resolution=100):\n",
    "    \"\"\"\n",
    "    given the surface point cloud of the objects, fill the internal point clouds(padding). \n",
    "    Based on the normal vector and the original plane at (x,y,0). fill all the points between the surface and the original plane\n",
    "    \n",
    "\n"
   ]
  },
  {
   "cell_type": "code",
   "execution_count": null,
   "metadata": {},
   "outputs": [],
   "source": [
    "# 可视化合并后的点云\n",
    "visualize_point_cloud(combined_data)\n"
   ]
  },
  {
   "cell_type": "code",
   "execution_count": null,
   "metadata": {},
   "outputs": [
    {
     "name": "stdout",
     "output_type": "stream",
     "text": [
      "PointCloud with 11184 points.\n"
     ]
    },
    {
     "data": {
      "text/plain": [
       "TriangleMesh with 762 points and 1520 triangles."
      ]
     },
     "execution_count": 4,
     "metadata": {},
     "output_type": "execute_result"
    }
   ],
   "source": [
    "\"\"\"The very original way to visualize the point cloud\"\"\"\"\n",
    "\n",
    "\n",
    "import open3d as o3d\n",
    "import numpy as np\n",
    "\n",
    "# Load your point cloud (adjust the path as needed)\n",
    "pcd = o3d.io.read_point_cloud(\"tabletop_objects.pcd\")\n",
    "\n",
    "print(pcd)\n",
    "# Create a coordinate frame (axes of length 0.1)\n",
    "coordinate_frame = o3d.geometry.TriangleMesh.create_coordinate_frame(size=0.1, origin=[0, 0, 0])\n",
    "\n",
    "# Create a small sphere to mark the origin (0,0,0)\n",
    "origin_marker = o3d.geometry.TriangleMesh.create_sphere(radius=0.02)\n",
    "origin_marker.paint_uniform_color([1, 0, 0])  # Red color for clear visibility\n",
    "origin_marker.translate([0, 0, 0])  # It is already at (0,0,0), this line is optional\n",
    "\n"
   ]
  },
  {
   "cell_type": "code",
   "execution_count": 3,
   "metadata": {},
   "outputs": [],
   "source": [
    "# Visualize the point cloud along with the coordinate frame and origin marker\n",
    "o3d.visualization.draw_geometries([pcd, coordinate_frame, origin_marker])\n"
   ]
  }
 ],
 "metadata": {
  "kernelspec": {
   "display_name": "Python 3",
   "language": "python",
   "name": "python3"
  },
  "language_info": {
   "codemirror_mode": {
    "name": "ipython",
    "version": 3
   },
   "file_extension": ".py",
   "mimetype": "text/x-python",
   "name": "python",
   "nbconvert_exporter": "python",
   "pygments_lexer": "ipython3",
   "version": "3.8.10"
  }
 },
 "nbformat": 4,
 "nbformat_minor": 2
}
