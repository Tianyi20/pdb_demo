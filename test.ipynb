{
 "cells": [
  {
   "cell_type": "code",
   "execution_count": null,
   "metadata": {
    "vscode": {
     "languageId": "plaintext"
    }
   },
   "outputs": [],
   "source": [
    "import warp as wp\n",
    "import numpy as np\n",
    "\n",
    "num_points = 1024\n",
    "\n",
    "@wp.kernel\n",
    "def length(points: wp.array(dtype=wp.vec3),\n",
    "           lengths: wp.array(dtype=float)):\n",
    "\n",
    "    # thread index\n",
    "    tid = wp.tid()\n",
    "    \n",
    "    # compute distance of each point from origin\n",
    "    lengths[tid] = wp.length(points[tid])\n",
    "\n",
    "\n",
    "# allocate an array of 3d points\n",
    "points = wp.array(np.random.rand(num_points, 3), dtype=wp.vec3)\n",
    "lengths = wp.zeros(num_points, dtype=float)\n",
    "\n",
    "# launch kernel\n",
    "wp.launch(kernel=length,\n",
    "          dim=len(points),\n",
    "          inputs=[points, lengths])\n",
    "\n",
    "print(lengths)"
   ]
  }
 ],
 "metadata": {
  "language_info": {
   "name": "python"
  }
 },
 "nbformat": 4,
 "nbformat_minor": 2
}
