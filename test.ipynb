{
 "cells": [
  {
   "cell_type": "code",
   "execution_count": 1,
   "metadata": {},
   "outputs": [
    {
     "name": "stdout",
     "output_type": "stream",
     "text": [
      "Warp UserWarning: Python 3.9 or newer is recommended for running Warp, detected sys.version_info(major=3, minor=8, micro=10, releaselevel='final', serial=0)\n",
      "Warp 1.6.0 initialized:\n",
      "   CUDA Toolkit 12.8, Driver 12.2\n",
      "   Devices:\n",
      "     \"cpu\"      : \"x86_64\"\n",
      "     \"cuda:0\"   : \"NVIDIA GeForce RTX 3060 Laptop GPU\" (6 GiB, sm_86, mempool enabled)\n",
      "   Kernel cache:\n",
      "     /home/tianyi/.cache/warp/1.6.0\n",
      "Module __main__ 33f7df0 load on device 'cuda:0' took 275.09 ms  (compiled)\n",
      "[0.8996801  0.8333189  0.35271    ... 1.3229645  1.1118957  0.50086534]\n"
     ]
    }
   ],
   "source": [
    "import warp as wp\n",
    "import numpy as np\n",
    "\n",
    "num_points = 1024\n",
    "\n",
    "@wp.kernel\n",
    "def length(points: wp.array(dtype=wp.vec3),\n",
    "           lengths: wp.array(dtype=float)):\n",
    "\n",
    "    # thread index\n",
    "    tid = wp.tid()\n",
    "    \n",
    "    # compute distance of each point from origin\n",
    "    lengths[tid] = wp.length(points[tid])\n",
    "\n",
    "\n",
    "# allocate an array of 3d points\n",
    "points = wp.array(np.random.rand(num_points, 3), dtype=wp.vec3)\n",
    "lengths = wp.zeros(num_points, dtype=float)\n",
    "\n",
    "# launch kernel\n",
    "wp.launch(kernel=length,\n",
    "          dim=len(points),\n",
    "          inputs=[points, lengths])\n",
    "\n",
    "print(lengths)"
   ]
  }
 ],
 "metadata": {
  "kernelspec": {
   "display_name": "Python 3",
   "language": "python",
   "name": "python3"
  },
  "language_info": {
   "codemirror_mode": {
    "name": "ipython",
    "version": 3
   },
   "file_extension": ".py",
   "mimetype": "text/x-python",
   "name": "python",
   "nbconvert_exporter": "python",
   "pygments_lexer": "ipython3",
   "version": "3.8.10"
  }
 },
 "nbformat": 4,
 "nbformat_minor": 2
}
